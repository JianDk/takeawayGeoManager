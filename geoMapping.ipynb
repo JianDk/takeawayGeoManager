{
 "cells": [
  {
   "cell_type": "code",
   "execution_count": 16,
   "id": "28b15817",
   "metadata": {},
   "outputs": [
    {
     "name": "stdout",
     "output_type": "stream",
     "text": [
      "{'order': {'id': 1008, 'fullName': 'Kasper Clausen', 'email': 'kaspermclau@gmail.com', 'mobile': '31373195', 'deliveryAddress': 'Midtermolen 16, 5. th, 2100 København Ø', 'latitude': '55.69732651', 'longitude': '12.59771819', 'deliveryTime': '19:15', 'delivery': True, 'pickup': False, 'newsletter': False, 'session_id': '14112021175812396519IYXNGIRDFSSPGVAIZHQHUCBMQGZZTE', 'comments': '', 'orderCreationDateTime': '2021-11-14T18:03:55.215302', 'paymentId': '000f00006191417a585abdc31d4993d7', 'webhookPaymentNotificationAuthKey': 'OBFE2WPU7XSZGQODNYQX83XN3KEMTGQI04HFKY3XT6DF36Q8D0NMEUE1GHIE', 'webhookPaymentStatus': True, 'webhookDateTimePaymentReceived': '2021-11-14T18:04:22.951954', 'webhookReceived': True}, 'cartItems': [{'quantity': 1, 'productName': 'Big Bao', 'productUnitPrice': 49.0, 'printToKitchenName': '12', 'printToKitchen': True, 'DeliveryFee': 49.0, 'bagFee': 4.0}, {'quantity': 1, 'productName': 'Crunchy Toast Bite', 'productUnitPrice': 59.0, 'printToKitchenName': '3', 'printToKitchen': True, 'DeliveryFee': 49.0, 'bagFee': 4.0}, {'quantity': 1, 'productName': 'Pan Fried Veggie Gaozi', 'productUnitPrice': 75.0, 'printToKitchenName': '9', 'printToKitchen': True, 'DeliveryFee': 49.0, 'bagFee': 4.0}, {'quantity': 1, 'productName': 'Roasted Duck', 'productUnitPrice': 110.0, 'printToKitchenName': '13', 'printToKitchen': True, 'DeliveryFee': 49.0, 'bagFee': 4.0}, {'quantity': 1, 'productName': 'Veggie Big Bao', 'productUnitPrice': 49.0, 'printToKitchenName': '11', 'printToKitchen': True, 'DeliveryFee': 49.0, 'bagFee': 4.0}, {'quantity': 1, 'productName': 'Wanton', 'productUnitPrice': 69.0, 'printToKitchenName': '5', 'printToKitchen': True, 'DeliveryFee': 49.0, 'bagFee': 4.0}, {'quantity': 1, 'productName': 'Xiao Long Bao', 'productUnitPrice': 59.0, 'printToKitchenName': '8', 'printToKitchen': True, 'DeliveryFee': 49.0, 'bagFee': 4.0}]}\n",
      "{'order': {'id': 1006, 'fullName': 'Merete Hoffmann', 'email': 'mhm.nielsen@gmail.com', 'mobile': '30935496', 'deliveryAddress': 'Eggersvej 19, st. tv, 2900 Hellerup', 'latitude': '55.73551357', 'longitude': '12.55189509', 'deliveryTime': '18:45', 'delivery': True, 'pickup': False, 'newsletter': False, 'session_id': '14112021175451324234BXZGAJTUHXOUIGQVMJLNCBMVUZTOSV', 'comments': '', 'orderCreationDateTime': '2021-11-14T17:57:10.031526', 'paymentId': '015a000061914023be00a3071a2d82a4', 'webhookPaymentNotificationAuthKey': 'LLL8199D6LWJ4ZVAPZITGVQX9B89ZY8ZGQ6FFFD81A8PU38CS5XAZ5961QY2', 'webhookPaymentStatus': True, 'webhookDateTimePaymentReceived': '2021-11-14T17:58:53.816980', 'webhookReceived': True}, 'cartItems': [{'quantity': 1, 'productName': 'Spring Rolls', 'productUnitPrice': 59.0, 'printToKitchenName': '2', 'printToKitchen': True, 'DeliveryFee': 49.0, 'bagFee': 4.0}, {'quantity': 1, 'productName': 'Smashed Cucumber', 'productUnitPrice': 59.0, 'printToKitchenName': '4', 'printToKitchen': True, 'DeliveryFee': 49.0, 'bagFee': 4.0}, {'quantity': 1, 'productName': 'Roasted Duck', 'productUnitPrice': 110.0, 'printToKitchenName': '13', 'printToKitchen': True, 'DeliveryFee': 49.0, 'bagFee': 4.0}, {'quantity': 1, 'productName': 'Char Siu Bao', 'productUnitPrice': 65.0, 'printToKitchenName': '7', 'printToKitchen': True, 'DeliveryFee': 49.0, 'bagFee': 4.0}, {'quantity': 1, 'productName': 'Pork Gaozi', 'productUnitPrice': 75.0, 'printToKitchenName': '15', 'printToKitchen': True, 'DeliveryFee': 49.0, 'bagFee': 4.0}]}\n",
      "{'order': {'id': 1004, 'fullName': 'Jimmi Meincke', 'email': 'susanaalmeida93@gmail.com', 'mobile': '51469323', 'deliveryAddress': 'Njalsgade 12, 2. th, 2300 København S', 'latitude': '55.66662825', 'longitude': '12.57819603', 'deliveryTime': '18:00', 'delivery': True, 'pickup': False, 'newsletter': False, 'session_id': '14112021171424176536DHYJSNDTOOPCPABCOPIVZMQNPUXHDP', 'comments': '', 'orderCreationDateTime': '2021-11-14T17:19:36.329815', 'paymentId': '007b0000619137179a237f1077977b22', 'webhookPaymentNotificationAuthKey': 'JZAGGAG3WR3VBTBBAJS61C2GYP5FU9IX9CKD7YTR26ENL3T6E30OMIC244LX', 'webhookPaymentStatus': True, 'webhookDateTimePaymentReceived': '2021-11-14T17:22:51.816785', 'webhookReceived': True}, 'cartItems': [{'quantity': 1, 'productName': 'Pork Gaozi', 'productUnitPrice': 75.0, 'printToKitchenName': '15', 'printToKitchen': True, 'DeliveryFee': 49.0, 'bagFee': 4.0}, {'quantity': 1, 'productName': 'Pan Fried Chicken Gaozi', 'productUnitPrice': 75.0, 'printToKitchenName': '10', 'printToKitchen': True, 'DeliveryFee': 49.0, 'bagFee': 4.0}, {'quantity': 1, 'productName': 'Spring Rolls', 'productUnitPrice': 59.0, 'printToKitchenName': '2', 'printToKitchen': True, 'DeliveryFee': 49.0, 'bagFee': 4.0}, {'quantity': 1, 'productName': 'Char Siu Bao', 'productUnitPrice': 65.0, 'printToKitchenName': '7', 'printToKitchen': True, 'DeliveryFee': 49.0, 'bagFee': 4.0}, {'quantity': 1, 'productName': 'Wanton', 'productUnitPrice': 69.0, 'printToKitchenName': '5', 'printToKitchen': True, 'DeliveryFee': 49.0, 'bagFee': 4.0}]}\n",
      "{'test': 'hello world'}\n",
      "{'order': {'id': 1007, 'fullName': 'Christina', 'email': 'emmihartwig@gmail.com', 'mobile': '22584706', 'deliveryAddress': 'Weysesgade 53, 2100 København Ø', 'latitude': '55.7152279', 'longitude': '12.57516798', 'deliveryTime': '18:45', 'delivery': True, 'pickup': False, 'newsletter': False, 'session_id': '14112021175352789616TIPODFOODJANTXRSTHICFPCZYXDCUM', 'comments': '', 'orderCreationDateTime': '2021-11-14T18:01:19.427297', 'paymentId': '02cb0000619140dfbe00a3071a2d832f', 'webhookPaymentNotificationAuthKey': '65P852JZJBOYZXJ9EPJQZIR6PF38UBB99NG43OOXIBF22BE98Z5BHY400U5V', 'webhookPaymentStatus': True, 'webhookDateTimePaymentReceived': '2021-11-14T18:07:49.374255', 'webhookReceived': True}, 'cartItems': [{'quantity': 1, 'productName': 'Pork Gaozi', 'productUnitPrice': 75.0, 'printToKitchenName': '15', 'printToKitchen': True, 'DeliveryFee': 49.0, 'bagFee': 4.0}, {'quantity': 2, 'productName': 'Char Siu Bao', 'productUnitPrice': 65.0, 'printToKitchenName': '7', 'printToKitchen': True, 'DeliveryFee': 49.0, 'bagFee': 4.0}, {'quantity': 2, 'productName': 'Pan Fried Chicken Gaozi', 'productUnitPrice': 75.0, 'printToKitchenName': '10', 'printToKitchen': True, 'DeliveryFee': 49.0, 'bagFee': 4.0}, {'quantity': 1, 'productName': 'Roasted Duck', 'productUnitPrice': 110.0, 'printToKitchenName': '13', 'printToKitchen': True, 'DeliveryFee': 49.0, 'bagFee': 4.0}, {'quantity': 1, 'productName': 'Xiao Long Bao', 'productUnitPrice': 59.0, 'printToKitchenName': '8', 'printToKitchen': True, 'DeliveryFee': 49.0, 'bagFee': 4.0}, {'quantity': 2, 'productName': 'Siu Mai', 'productUnitPrice': 75.0, 'printToKitchenName': '6', 'printToKitchen': True, 'DeliveryFee': 49.0, 'bagFee': 4.0}, {'quantity': 2, 'productName': 'Wanton', 'productUnitPrice': 69.0, 'printToKitchenName': '5', 'printToKitchen': True, 'DeliveryFee': 49.0, 'bagFee': 4.0}, {'quantity': 1, 'productName': 'Smashed Cucumber', 'productUnitPrice': 59.0, 'printToKitchenName': '4', 'printToKitchen': True, 'DeliveryFee': 49.0, 'bagFee': 4.0}]}\n",
      "{'order': {'id': 1003, 'fullName': 'Line', 'email': 'line@llwdesign.com', 'mobile': '40280591', 'deliveryAddress': 'Sofievej 30, 2900 Hellerup', 'latitude': '55.73334253', 'longitude': '12.56909472', 'deliveryTime': '18:30', 'delivery': True, 'pickup': False, 'newsletter': False, 'session_id': '14112021171556300986DNKEOFATWBCSTZQGWCNEABWRKZIENR', 'comments': '', 'orderCreationDateTime': '2021-11-14T17:18:31.956225', 'paymentId': '02ae0000619136d79a237f1077977b01', 'webhookPaymentNotificationAuthKey': 'K9IX3I4SU81SXKYBW35UPI9F5DQ38A4T99N8UGCMP9BZU0U4ULUVJD63YFYS', 'webhookPaymentStatus': True, 'webhookDateTimePaymentReceived': '2021-11-14T17:19:02.658756', 'webhookReceived': True}, 'cartItems': [{'quantity': 1, 'productName': 'Pork Gaozi', 'productUnitPrice': 75.0, 'printToKitchenName': '15', 'printToKitchen': True, 'DeliveryFee': 49.0, 'bagFee': 4.0}, {'quantity': 2, 'productName': 'Char Siu Bao', 'productUnitPrice': 65.0, 'printToKitchenName': '7', 'printToKitchen': True, 'DeliveryFee': 49.0, 'bagFee': 4.0}, {'quantity': 1, 'productName': 'Crunchy Toast Bite', 'productUnitPrice': 59.0, 'printToKitchenName': '3', 'printToKitchen': True, 'DeliveryFee': 49.0, 'bagFee': 4.0}, {'quantity': 2, 'productName': 'Pan Fried Chicken Gaozi', 'productUnitPrice': 75.0, 'printToKitchenName': '10', 'printToKitchen': True, 'DeliveryFee': 49.0, 'bagFee': 4.0}, {'quantity': 1, 'productName': 'Siu Mai', 'productUnitPrice': 75.0, 'printToKitchenName': '6', 'printToKitchen': True, 'DeliveryFee': 49.0, 'bagFee': 4.0}, {'quantity': 1, 'productName': 'Roasted Duck', 'productUnitPrice': 110.0, 'printToKitchenName': '13', 'printToKitchen': True, 'DeliveryFee': 49.0, 'bagFee': 4.0}, {'quantity': 3, 'productName': 'Spring Rolls', 'productUnitPrice': 59.0, 'printToKitchenName': '2', 'printToKitchen': True, 'DeliveryFee': 49.0, 'bagFee': 4.0}, {'quantity': 1, 'productName': 'Wanton', 'productUnitPrice': 69.0, 'printToKitchenName': '5', 'printToKitchen': True, 'DeliveryFee': 49.0, 'bagFee': 4.0}, {'quantity': 2, 'productName': 'Xiao Long Bao', 'productUnitPrice': 59.0, 'printToKitchenName': '8', 'printToKitchen': True, 'DeliveryFee': 49.0, 'bagFee': 4.0}]}\n",
      "{'order': {'id': 1005, 'fullName': 'Mads Hvenekilde', 'email': 'm.hvenekilde@gmail.com', 'mobile': '', 'deliveryAddress': '', 'latitude': '', 'longitude': '', 'deliveryTime': '17:45', 'delivery': False, 'pickup': True, 'newsletter': False, 'session_id': '14112021172009916136ABMRGQIOBMTEADQKACIIFUQIJHKDEY', 'comments': '', 'orderCreationDateTime': '2021-11-14T17:23:56.237876', 'paymentId': '006700006191381b585abdc31d498dc6', 'webhookPaymentNotificationAuthKey': '6INAOBRDVCJD62W25TABZFFFWKDPBGB3L0ZZD1WITUC522Z1IHBDPGMI71JV', 'webhookPaymentStatus': True, 'webhookDateTimePaymentReceived': '2021-11-14T17:24:59.498383', 'webhookReceived': True}, 'cartItems': [{'quantity': 2, 'productName': 'Pan Fried Chicken Gaozi', 'productUnitPrice': 75.0, 'printToKitchenName': '10', 'printToKitchen': True, 'DeliveryFee': 49.0, 'bagFee': 4.0}, {'quantity': 1, 'productName': 'Spring Rolls', 'productUnitPrice': 59.0, 'printToKitchenName': '2', 'printToKitchen': True, 'DeliveryFee': 49.0, 'bagFee': 4.0}, {'quantity': 1, 'productName': 'Veggie Dumpling Noodles', 'productUnitPrice': 89.0, 'printToKitchenName': '1V', 'printToKitchen': True, 'DeliveryFee': 49.0, 'bagFee': 4.0}, {'quantity': 1, 'productName': 'Lotus Leaf Wrap', 'productUnitPrice': 49.0, 'printToKitchenName': '14', 'printToKitchen': True, 'DeliveryFee': 49.0, 'bagFee': 4.0}]}\n"
     ]
    }
   ],
   "source": [
    "import ipywidgets \n",
    "import glob\n",
    "import json\n",
    "takeawayFolderPath = '/home/hd2900/Documents/Python/POS/takeawayOrders'\n",
    "class GeoMapping:\n",
    "    def __init__(self, takeawayFolderPath):\n",
    "        self.takeawayFolderPath = takeawayFolderPath\n",
    "        self.refreshJson()\n",
    "    \n",
    "    def buildGUI(self):\n",
    "        pass\n",
    "    \n",
    "    def refreshJson(self):\n",
    "        '''\n",
    "        Used for refresh all the latest json files\n",
    "        '''\n",
    "        files = glob.glob(self.takeawayFolderPath + '/*.json')\n",
    "        self.orders = list()\n",
    "        for fileName in files:\n",
    "            with open(fileName,'r') as fileId:\n",
    "                order = json.load(fileId)\n",
    "            \n",
    "            #Check if the order is a delivery\n",
    "            if order['order']['delivery']:\n",
    "                tmp = dict()\n",
    "                tmp['id'] = order['order']['id']\n",
    "                tmp['fullName'] = order['order']['fullName']\n",
    "                tmp['email'] = order['order']['email']\n",
    "                tmp['mobile'] = order['order']['mobile']\n",
    "                tmp['deliveryAddress'] = order['order']['deliveryAddress']\n",
    "                tmp['latitude'] = order['order']['latitude']\n",
    "                tmp['longitude'] = order['order']['longitude']\n",
    "                tmp['comments'] = order['order']['comments']\n",
    "                tmp['deadline'] = order['order']['deliveryTime']\n",
    "        \n",
    "        self.orders.append(tmp)\n",
    "                \n",
    "                \n",
    " \n",
    "GeoMap = GeoMapping(takeawayFolderPath)\n",
    "        \n",
    "        "
   ]
  },
  {
   "cell_type": "code",
   "execution_count": null,
   "id": "477aa3de",
   "metadata": {},
   "outputs": [],
   "source": []
  }
 ],
 "metadata": {
  "kernelspec": {
   "display_name": "Python 3 (ipykernel)",
   "language": "python",
   "name": "python3"
  },
  "language_info": {
   "codemirror_mode": {
    "name": "ipython",
    "version": 3
   },
   "file_extension": ".py",
   "mimetype": "text/x-python",
   "name": "python",
   "nbconvert_exporter": "python",
   "pygments_lexer": "ipython3",
   "version": "3.9.7"
  }
 },
 "nbformat": 4,
 "nbformat_minor": 5
}
