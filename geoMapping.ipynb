{
 "cells": [
  {
   "cell_type": "code",
   "execution_count": 1,
   "id": "344cdd10",
   "metadata": {},
   "outputs": [],
   "source": [
    "import ipywidgets \n",
    "import pathlib\n",
    "takeawayFolderPath = '/home/hd2900/Documents/Python/POS/takeawayOrders'\n",
    "takeawayFolderPath = pathlib.Path(takeawayFolderPath)\n",
    "class GeoMapping:\n",
    "    def __init__(self, takeawayFolderPath):\n",
    "        self.takeawayFolderPath = takeawayFolderPath\n",
    "        "
   ]
  },
  {
   "cell_type": "code",
   "execution_count": null,
   "id": "1e0f15d3",
   "metadata": {},
   "outputs": [],
   "source": []
  }
 ],
 "metadata": {
  "kernelspec": {
   "display_name": "Python 3 (ipykernel)",
   "language": "python",
   "name": "python3"
  },
  "language_info": {
   "codemirror_mode": {
    "name": "ipython",
    "version": 3
   },
   "file_extension": ".py",
   "mimetype": "text/x-python",
   "name": "python",
   "nbconvert_exporter": "python",
   "pygments_lexer": "ipython3",
   "version": "3.9.7"
  }
 },
 "nbformat": 4,
 "nbformat_minor": 5
}
