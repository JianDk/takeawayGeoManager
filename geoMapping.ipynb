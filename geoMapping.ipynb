{
 "cells": [
  {
   "cell_type": "code",
   "execution_count": 1,
   "id": "08281ff5",
   "metadata": {},
   "outputs": [
    {
     "data": {
      "application/vnd.jupyter.widget-view+json": {
       "model_id": "72f1de7668c846918e00ecd926a5210b",
       "version_major": 2,
       "version_minor": 0
      },
      "text/plain": [
       "VBox(children=(Button(description='Refresh', style=ButtonStyle()), Output()))"
      ]
     },
     "metadata": {},
     "output_type": "display_data"
    }
   ],
   "source": [
    "import ipywidgets \n",
    "import glob\n",
    "import json\n",
    "import pandas as pd\n",
    "import qgrid\n",
    "from IPython.display import display \n",
    "\n",
    "takeawayFolderPath = '/home/hd2900/Documents/Python/POS/takeawayOrders'\n",
    "class GeoMapping:\n",
    "    def __init__(self, takeawayFolderPath):\n",
    "        self.takeawayFolderPath = takeawayFolderPath\n",
    "        self.refreshJson()\n",
    "        self.getOrderDataFrame()\n",
    "        self.buildGUI()\n",
    "        self.displayTable()\n",
    "    \n",
    "    def buildGUI(self):\n",
    "        self.btn_update = ipywidgets.Button(description = 'Refresh')\n",
    "        self.tableOutput1 = ipywidgets.Output()\n",
    "        self.VBox = ipywidgets.VBox([self.btn_update, self.tableOutput1])\n",
    "        display(self.VBox)\n",
    "        \n",
    "    def displayTable(self):\n",
    "        with self.tableOutput1:\n",
    "            self.tableOutput1.clear_output()\n",
    "            self.qgrid = qgrid.show_grid(self.orderDF)\n",
    "            display(self.qgrid)\n",
    "        \n",
    "    def refreshJson(self):\n",
    "        '''\n",
    "        Used for refresh all the latest json files\n",
    "        '''\n",
    "        files = glob.glob(self.takeawayFolderPath + '/*.json')\n",
    "        self.orders = list()\n",
    "        for fileName in files:\n",
    "            with open(fileName,'r') as fileId:\n",
    "                order = json.load(fileId)\n",
    "            \n",
    "            #Check if the order is a delivery\n",
    "            if order['order']['delivery']:\n",
    "                tmp = dict()\n",
    "                tmp['id'] = order['order']['id']\n",
    "                tmp['fullName'] = order['order']['fullName']\n",
    "                tmp['email'] = order['order']['email']\n",
    "                tmp['mobile'] = order['order']['mobile']\n",
    "                tmp['deliveryAddress'] = order['order']['deliveryAddress']\n",
    "                tmp['latitude'] = order['order']['latitude']\n",
    "                tmp['longitude'] = order['order']['longitude']\n",
    "                tmp['comments'] = order['order']['comments']\n",
    "                tmp['deadline'] = order['order']['deliveryTime']\n",
    "        \n",
    "                self.orders.append(tmp)\n",
    "        \n",
    "    def getOrderDataFrame(self):\n",
    "        '''\n",
    "        Convert the content in self.orders into a pandas data frame \n",
    "        '''\n",
    "        #The data frame contain the following columns\n",
    "        self.orderDF = dict()\n",
    "        self.orderDF['Order Id'] = list()\n",
    "        self.orderDF['Name'] = list()\n",
    "        self.orderDF['Address'] = list()\n",
    "        self.orderDF['Mobile'] = list()\n",
    "        self.orderDF['Comments'] = list()\n",
    "        self.orderDF['Deadline'] = list()\n",
    "        for order in self.orders:\n",
    "            self.orderDF['Order Id'].append(order['id'])\n",
    "            self.orderDF['Name'].append(order['fullName'])\n",
    "            self.orderDF['Address'].append(order['deliveryAddress'])\n",
    "            self.orderDF['Mobile'].append(order['mobile'])\n",
    "            self.orderDF['Comments'].append(order['comments'])\n",
    "            self.orderDF['Deadline'].append(order['deadline'])\n",
    "                \n",
    "        self.orderDF = pd.DataFrame.from_dict(self.orderDF)\n",
    " \n",
    "GeoMap = GeoMapping(takeawayFolderPath)\n",
    "        \n",
    "        "
   ]
  },
  {
   "cell_type": "code",
   "execution_count": null,
   "id": "0cf96253",
   "metadata": {},
   "outputs": [],
   "source": []
  }
 ],
 "metadata": {
  "kernelspec": {
   "display_name": "Python 3 (ipykernel)",
   "language": "python",
   "name": "python3"
  },
  "language_info": {
   "codemirror_mode": {
    "name": "ipython",
    "version": 3
   },
   "file_extension": ".py",
   "mimetype": "text/x-python",
   "name": "python",
   "nbconvert_exporter": "python",
   "pygments_lexer": "ipython3",
   "version": "3.9.7"
  }
 },
 "nbformat": 4,
 "nbformat_minor": 5
}
